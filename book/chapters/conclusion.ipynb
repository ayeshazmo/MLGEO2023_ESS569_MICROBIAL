{
 "cells": [
  {
   "attachments": {},
   "cell_type": "markdown",
   "metadata": {
    "tags": []
   },
   "source": [
    "# Discussion / Conclusion \n",
    "\n",
    "### Conclusion\n",
    "\n",
    "The Multiple Linear Regression models performed better when they were trained and tested on the same dataset. The models struggled to capture the patterns in the data correctly when trained with one dataset and then tested with the other. The random forest regression models performed best when tested on the same dataset as opposed to the other dataset. The Principal Component Regression performed significantly better when trained and tested on the same dataset, and the RMSE values were much higher when training and testing on opposing datasets. The Random Forest Regression minimized the MSE most significantly when training and testing on the same datasets (Gradients 1 model and PERI-DICE model had MSEs of 1.04 and 1.14 respectively), however the Principal Component Regression minimized RMSE most significantly when training on the Gradients 1 dataset and testing on PERI-DICE (RMSE of 3.317 compared to MSE of 11.71 when the Gradients 1 model was applied to PERI-DICE using the RFR). This is most likely a result of the Principal Component Regression being capable of minimizing variance and disregarding metabolite concentrations that are not related to inorganic nitrogen concentrations. The Gradients 1 dataset also reduces the error most significantly when predicting PERI-DICE, as compared to the PERI-DICE dataset maximizing error when applied to the Gradients 1 dataset.\n",
    "\n",
    "The lack of ability to accurately predict inorganic nitrogen concentrations most likely originates from the simple fact that microbial communities (and subsequently their metabolites) are some of the most diverse components of the marine environment. No matter the machine learning method, making generalizations about inorganic nitrogen concentrations from such a complex system is likely to result in error and bias based on sampling methods and density of sampling in each region. The improvement of machine learning models for marine microbial communities will most likely need significant refinement in regards to the metabolites selected for sampling, developing known correlations between specific microorganisms and their metabolites in nitrogen-limited marine environments. Additionally, a machine learning model that is able to fully comprehend all of the diverse relationships between these metabolites and inorganic nitrogen concentrations needs to be able to understand the complexity of these relationships, especially when they might not necessarily have a linear relationship.\n",
    "\t\n",
    "\n",
    "### Discussion\n",
    "\n",
    "This chapter has two parts: lessons learnt and open questions. \n",
    "\n",
    "Learns learnt should summerize the new stuff we learn from this use case of AI. What new contribution does AI give to solve this problem? Is it good enough to achieve your expected goal? What part of work is unexpected before you dive in? Do you think the model can work in your production environment? etc.\n",
    "\n",
    "Open questions should focus on future possibilities like if your team wants to adopt this model, what else you should do to make it fully work? How should we better tackle the data bias problem? How should we address the generalization issue on spatial and temporal extent in practice?\n",
    "\n",
    "Please elaborate a little bit on these questions with your real thoughts, which will be very helpful for us to tell the final story to students. \n"
   ]
  }
 ],
 "metadata": {
  "kernelspec": {
   "display_name": "Python 3",
   "language": "python",
   "name": "python3"
  },
  "language_info": {
   "codemirror_mode": {
    "name": "ipython",
    "version": 3
   },
   "file_extension": ".py",
   "mimetype": "text/x-python",
   "name": "python",
   "nbconvert_exporter": "python",
   "pygments_lexer": "ipython3",
   "version": "3.9.0 (tags/v3.9.0:9cf6752, Oct  5 2020, 15:23:07) [MSC v.1927 32 bit (Intel)]"
  },
  "vscode": {
   "interpreter": {
    "hash": "c446eef832ec964573dc49f36fd16bdbed40cbfbefbf557bc2dc78d9e7968689"
   }
  }
 },
 "nbformat": 4,
 "nbformat_minor": 4
}
