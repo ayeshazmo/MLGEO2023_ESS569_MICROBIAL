{
 "cells": [
  {
   "attachments": {},
   "cell_type": "markdown",
   "metadata": {
    "tags": []
   },
   "source": [
    "# Motivation\n",
    "\n",
    "Marine microbial communities drive biogeochemical cycles in the ocean and are the base of marine ecosystems. Light-driven primary production by phytoplankton controls the amount of fixed carbon entering a system which controls microbial biomass (Cloern et al., 2014). Phytoplankton growth in the ocean is limited by different nutrients in different regions of the ocean, primarily nitrogen in the vast, oligotrophic oceanic gyres or iron in the polar and equatorial regions (termed high nutrient low chlorophyll (HNLC) regions) (Martin and Fitzwater, 1988). Differences in nutrient input rates and ratios determine the limiting nutrients in different areas of the ocean and different limiting nutrients lead to different microbial community compositions, microbial physiologies, organic matter compositions, and biogeochemical cycling rates (Passow and Carlson, 2012). Global climate change is expected to drive increased ocean stratification and lower nutrient inputs into the surface ocean (Li et al., 2020) with potentially substantial impacts on marine microbial communities and carbon cycling.\n",
    "\n",
    "Metabolites are small, biologically produced organic molecules that are the building blocks of macromolecules, the intermediates of metabolic processes, and serve important cellular functions such as resource storage, signaling molecules, and stress response (Moran et al., 2022). Metabolomics is the measurement of all small molecules in a system, often using liquid chromatography-mass spectrometry (Boysen et al. 2018). The marine microbial metabolome (all metabolites in a system) is controlled by a combination of taxonomy and cellular physiology (Heal et al. 2021, Boysen et al. 2021). Therefore, the overall meaning of a metabolite measurement is the combined signal of these two factors. Here, we propose to use machine learning to identify relationships between marine microbial metabolites and nutrient concentrations to learn how microbial communities shift in response to changes in nutrients.\n",
    "\n",
    "**Research Question:** \n",
    "Can we predict inorganic nitrogen (N) concentrations from intracellular microbial metabolite concentrations? \n"
   ]
  }
 ],
 "metadata": {
  "kernelspec": {
   "display_name": "Python 3",
   "language": "python",
   "name": "python3"
  },
  "language_info": {
   "codemirror_mode": {
    "name": "ipython",
    "version": 3
   },
   "file_extension": ".py",
   "mimetype": "text/x-python",
   "name": "python",
   "nbconvert_exporter": "python",
   "pygments_lexer": "ipython3",
   "version": "3.9.0 (tags/v3.9.0:9cf6752, Oct  5 2020, 15:23:07) [MSC v.1927 32 bit (Intel)]"
  },
  "vscode": {
   "interpreter": {
    "hash": "c446eef832ec964573dc49f36fd16bdbed40cbfbefbf557bc2dc78d9e7968689"
   }
  }
 },
 "nbformat": 4,
 "nbformat_minor": 4
}
