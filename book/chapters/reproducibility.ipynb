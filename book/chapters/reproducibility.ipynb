{
 "cells": [
  {
   "attachments": {},
   "cell_type": "markdown",
   "metadata": {
    "tags": []
   },
   "source": [
    "# Reproducibility\n",
    "\n",
    "How to get credit for the work. Steps for getting a DOI. Discuss workflow adaptation to other datasets and science questions if suitable.\n",
    "\n",
    "The reproducible code can be found in the chapters of this book. \n",
    "\n",
    "The next steps for publication would be to define the hyperparameters more to lower the RMSE or MSE of each model. This could be done by prioritizing metabolites that are more powerful in determining the inorganic nitrogen concentrations as well as refining or normalizing the data to additional metadata beyond particulate carbon. This data could be of interest to a variety of journals, including ones such as Nature, which has a broad scope of interests, as well as journals with an emphasis on marine science, such as Frontiers in Marine Science. "
   ]
  }
 ],
 "metadata": {
  "kernelspec": {
   "display_name": "Python 3",
   "language": "python",
   "name": "python3"
  },
  "language_info": {
   "codemirror_mode": {
    "name": "ipython",
    "version": 3
   },
   "file_extension": ".py",
   "mimetype": "text/x-python",
   "name": "python",
   "nbconvert_exporter": "python",
   "pygments_lexer": "ipython3",
   "version": "3.9.0 (tags/v3.9.0:9cf6752, Oct  5 2020, 15:23:07) [MSC v.1927 32 bit (Intel)]"
  },
  "vscode": {
   "interpreter": {
    "hash": "c446eef832ec964573dc49f36fd16bdbed40cbfbefbf557bc2dc78d9e7968689"
   }
  }
 },
 "nbformat": 4,
 "nbformat_minor": 4
}
