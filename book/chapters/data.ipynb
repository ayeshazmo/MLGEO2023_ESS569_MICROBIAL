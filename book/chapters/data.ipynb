{
 "cells": [
  {
   "attachments": {},
   "cell_type": "markdown",
   "metadata": {
    "tags": []
   },
   "source": [
    "# Data Preparation\n",
    "\n",
    "Data description include source, size, type, attributes, modality, etc. Data retrieval from community data centers, personal cloud storage, or published datasets. Feature extraction and engineering.\n"
   ]
  },
  {
   "cell_type": "markdown",
   "metadata": {},
   "source": [
    "## Datasets:\n",
    "\n",
    "This project will use a controlled mesocosm experiment (PERI-DICE) metabolite dataset where nutrients were amended into natural communities as a test dataset to develop the machine learning model to predict nutrient concentrations. We will then test the robustness and generalizability of this model on an environmental dataset with samples containing a wide range of nutrient concentrations (Gradients 1). We will also switch the comparison to test the ability of machine learning models trained on the environmental samples to predict the amended nutrient concentrations of the mesocosm experiment samples"
   ]
  },
  {
   "cell_type": "markdown",
   "metadata": {},
   "source": [
    "### PERI-DICE:\n",
    "\n",
    "The PERI-DICE metabolite dataset is a set of samples collected from the PERI-DICE mesocosm experiment. This experiment collected metabolites weekly on a 4 week long nutrient enrichment experiment, with treatments designed to test how nutrient ratio and input rate influenced the microbial communities present in the nitrogen limited North Pacific Subtropical Gyre. The seawater was collected off the coast of Hawaii and incubated with daily nutrient amendments for a 4 week period. This dataset was generated in the Ingalls Lab at the University of Washington, School of Oceanography. This dataset is currently unpublished and so was not evaluated for its FAIR principles. \n",
    "The inorganic nitrogen concentrations (uM) that are being predicted from the various models implemented refers to the various amounts of added nitrate (NO3-) and ammonium (NH4+) to each mesocosm, which are two of the most predominant inorganic forms of nitrogen present in surface seawater. This experiment took place in a laboratory setting, implying significant control over and knowledge of the added inorganic nitrogen to each treatment group."
   ]
  },
  {
   "cell_type": "markdown",
   "metadata": {},
   "source": [
    "### Gradients 1:\n",
    "\n",
    "The Gradients 1 metabolite dataset is a set of samples collected on the Gradients 1 research cruise (KOK1606) in April, 2016. This cruise transited latitudinally along 158 degrees W from the nitrogen limited North Pacific Subtropical Gyre to the iron limited North Pacific Subpolar Gyre. Metabolites were sampled from the surface ocean (15m depth) along the transect capturing environmental communities experiencing a range of nutrient conditions. This dataset was generated in the Ingalls Lab and is published in Heal et al. 2021. This dataset met most fair principles as it was findable and accessible (accessed through the supplemental information contained in the paper). It was not entirely interoperable and machine readable as it required some manual compilation from an excel sheet into a useful dataframe in a csv. The dataset was reusable as it included extensive metadata documentation that made it easy and straightforward to understand and incorporate into this project. \n"
   ]
  },
  {
   "cell_type": "markdown",
   "metadata": {},
   "source": [
    "### Data Normalization:\n",
    "\n",
    "Both the PERI-DICE and Gradients 1 datasets consist of raw metabolite concentrations (uM), inorganic nitrogen concentrations (uM), and particulate carbon concentrations (uM). The metabolite concentrations were normalized to biomass by dividing the metabolite concentrations by the particulate carbon concentrations for a fourth data column of normalized metabolite concentration (uM per uM). This is necessary as metabolite trends have a strong correlation with biomass, which is not a significant component of our analysis in predicting inorganic nitrogen concentrations. Normalizing to biomass minimizes variation across these diverse samples. \n",
    "The other normalization conducted to filter for shared metabolites across datasets.. Unfiltered, the PERI-DICE dataset consists of 172 unique metabolites and the Gradients 1 dataset consists of 84 unique metabolites. There were 68 metabolites shared between the two datasets which \n"
   ]
  }
 ],
 "metadata": {
  "kernelspec": {
   "display_name": "Python 3",
   "language": "python",
   "name": "python3"
  },
  "language_info": {
   "codemirror_mode": {
    "name": "ipython",
    "version": 3
   },
   "file_extension": ".py",
   "mimetype": "text/x-python",
   "name": "python",
   "nbconvert_exporter": "python",
   "pygments_lexer": "ipython3",
   "version": "3.9.0 (tags/v3.9.0:9cf6752, Oct  5 2020, 15:23:07) [MSC v.1927 32 bit (Intel)]"
  },
  "vscode": {
   "interpreter": {
    "hash": "c446eef832ec964573dc49f36fd16bdbed40cbfbefbf557bc2dc78d9e7968689"
   }
  }
 },
 "nbformat": 4,
 "nbformat_minor": 4
}
